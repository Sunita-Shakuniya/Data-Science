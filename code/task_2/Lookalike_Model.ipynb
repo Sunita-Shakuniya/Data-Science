{
 "cells": [
  {
   "cell_type": "code",
   "execution_count": 1,
   "metadata": {},
   "outputs": [],
   "source": [
    "import pandas as pd\n",
    "customers = pd.read_csv('C:/Users/sunit/Desktop/eCommerce_Transaction Dataset/data/Customers.csv')\n",
    "products = pd.read_csv('C:/Users/sunit/Desktop/eCommerce_Transaction Dataset/data/Products.csv')\n",
    "transactions = pd.read_csv('C:/Users/sunit/Desktop/eCommerce_Transaction Dataset/data/Transactions.csv')\n"
   ]
  },
  {
   "cell_type": "code",
   "execution_count": 2,
   "metadata": {},
   "outputs": [],
   "source": [
    "from sklearn.metrics.pairwise import cosine_similarity\n",
    "from sklearn.preprocessing import StandardScaler"
   ]
  },
  {
   "cell_type": "code",
   "execution_count": 7,
   "metadata": {},
   "outputs": [
    {
     "name": "stdout",
     "output_type": "stream",
     "text": [
      "Index(['TransactionID', 'CustomerID', 'ProductID', 'TransactionDate',\n",
      "       'Quantity', 'TotalValue', 'ProductName', 'Category', 'Price',\n",
      "       'CustomerName', 'Region', 'SignupDate'],\n",
      "      dtype='object')\n",
      "  CustomerID  TotalValue  Quantity       Price  Category_Books  \\\n",
      "0      C0001     3354.52        12  278.334000           False   \n",
      "1      C0002     1862.74        10  208.920000           False   \n",
      "2      C0003     2725.38        14  195.707500           False   \n",
      "3      C0004     5354.88        23  240.636250            True   \n",
      "4      C0005     2034.24         7  291.603333           False   \n",
      "\n",
      "   Category_Clothing  Category_Electronics  Category_Home Decor  Region_Asia  \\\n",
      "0              False                  True                False        False   \n",
      "1               True                 False                False         True   \n",
      "2              False                 False                 True        False   \n",
      "3              False                 False                False        False   \n",
      "4              False                  True                False         True   \n",
      "\n",
      "   Region_Europe  Region_North America  Region_South America  \n",
      "0          False                 False                  True  \n",
      "1          False                 False                 False  \n",
      "2          False                 False                  True  \n",
      "3          False                 False                  True  \n",
      "4          False                 False                 False  \n"
     ]
    }
   ],
   "source": [
    "\n",
    "# Merge datasets\n",
    "merged = transactions.merge(products, on='ProductID').merge(customers, on='CustomerID')\n",
    "\n",
    "# Rename or drop conflicting columns\n",
    "merged = merged.rename(columns={'Price_y': 'Price'}).drop(columns=['Price_x'])\n",
    "\n",
    "# Verify that the 'Price' column is correctly named and present\n",
    "print(merged.columns)\n",
    "\n",
    "# Feature engineering\n",
    "customer_features = merged.groupby('CustomerID').agg({\n",
    "    'TotalValue': 'sum',\n",
    "    'Quantity': 'sum',\n",
    "    'Price': 'mean',\n",
    "    'Category': lambda x: x.mode()[0],  # Most purchased category\n",
    "    'Region': 'first'\n",
    "}).reset_index()\n",
    "\n",
    "# Encode categorical variables\n",
    "customer_features = pd.get_dummies(customer_features, columns=['Category', 'Region'])\n",
    "\n",
    "# Display the first few rows of the transformed data\n",
    "print(customer_features.head())\n",
    "\n",
    "# Scale numerical features\n",
    "scaler = StandardScaler()\n",
    "scaled_features = scaler.fit_transform(customer_features.drop(columns=['CustomerID']))\n",
    "\n",
    "# Compute similarity\n",
    "similarity_matrix = cosine_similarity(scaled_features)\n",
    "\n",
    "# Get top 3 lookalikes for each customer\n",
    "lookalikes = {}\n",
    "for idx, customer_id in enumerate(customer_features['CustomerID']):\n",
    "    scores = similarity_matrix[idx]\n",
    "    similar_customers = sorted(\n",
    "        [(customer_features['CustomerID'][i], score) for i, score in enumerate(scores) if i != idx],\n",
    "        key=lambda x: x[1], reverse=True\n",
    "    )[:3]\n",
    "    lookalikes[customer_id] = similar_customers\n",
    "\n",
    "# Output results for customers C0001 - C0020\n",
    "result = {cust_id: lookalikes[cust_id] for cust_id in customer_features['CustomerID'] if cust_id in [f'C{str(i).zfill(4)}' for i in range(1, 21)]}\n",
    "\n",
    "# Save to CSV\n",
    "pd.DataFrame({'CustomerID': result.keys(), 'Lookalikes': [v for v in result.values()]}).to_csv('Lookalike.csv', index=False)"
   ]
  }
 ],
 "metadata": {
  "kernelspec": {
   "display_name": "Python 3",
   "language": "python",
   "name": "python3"
  },
  "language_info": {
   "codemirror_mode": {
    "name": "ipython",
    "version": 3
   },
   "file_extension": ".py",
   "mimetype": "text/x-python",
   "name": "python",
   "nbconvert_exporter": "python",
   "pygments_lexer": "ipython3",
   "version": "3.12.0"
  }
 },
 "nbformat": 4,
 "nbformat_minor": 2
}
